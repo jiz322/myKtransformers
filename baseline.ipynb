{
 "cells": [
  {
   "cell_type": "code",
   "execution_count": null,
   "id": "86c97e7b",
   "metadata": {},
   "outputs": [
    {
     "name": "stderr",
     "output_type": "stream",
     "text": [
      "/home/zheng/miniconda3/envs/qwen3-cpu/lib/python3.11/site-packages/tqdm/auto.py:21: TqdmWarning: IProgress not found. Please update jupyter and ipywidgets. See https://ipywidgets.readthedocs.io/en/stable/user_install.html\n",
      "  from .autonotebook import tqdm as notebook_tqdm\n",
      "Loading checkpoint shards: 100%|██████████| 16/16 [02:26<00:00,  9.13s/it]\n"
     ]
    },
    {
     "data": {
      "text/plain": [
       "Qwen3MoeForCausalLM(\n",
       "  (model): Qwen3MoeModel(\n",
       "    (embed_tokens): Embedding(151936, 2048)\n",
       "    (layers): ModuleList(\n",
       "      (0-47): 48 x Qwen3MoeDecoderLayer(\n",
       "        (self_attn): Qwen3MoeAttention(\n",
       "          (q_proj): Linear(in_features=2048, out_features=4096, bias=False)\n",
       "          (k_proj): Linear(in_features=2048, out_features=512, bias=False)\n",
       "          (v_proj): Linear(in_features=2048, out_features=512, bias=False)\n",
       "          (o_proj): Linear(in_features=4096, out_features=2048, bias=False)\n",
       "          (q_norm): Qwen3MoeRMSNorm((128,), eps=1e-06)\n",
       "          (k_norm): Qwen3MoeRMSNorm((128,), eps=1e-06)\n",
       "        )\n",
       "        (mlp): Qwen3MoeSparseMoeBlock(\n",
       "          (gate): Linear(in_features=2048, out_features=128, bias=False)\n",
       "          (experts): ModuleList(\n",
       "            (0-127): 128 x Qwen3MoeMLP(\n",
       "              (gate_proj): Linear(in_features=2048, out_features=768, bias=False)\n",
       "              (up_proj): Linear(in_features=2048, out_features=768, bias=False)\n",
       "              (down_proj): Linear(in_features=768, out_features=2048, bias=False)\n",
       "              (act_fn): SiLU()\n",
       "            )\n",
       "          )\n",
       "        )\n",
       "        (input_layernorm): Qwen3MoeRMSNorm((2048,), eps=1e-06)\n",
       "        (post_attention_layernorm): Qwen3MoeRMSNorm((2048,), eps=1e-06)\n",
       "      )\n",
       "    )\n",
       "    (norm): Qwen3MoeRMSNorm((2048,), eps=1e-06)\n",
       "    (rotary_emb): Qwen3MoeRotaryEmbedding()\n",
       "  )\n",
       "  (lm_head): Linear(in_features=2048, out_features=151936, bias=False)\n",
       ")"
      ]
     },
     "execution_count": 1,
     "metadata": {},
     "output_type": "execute_result"
    }
   ],
   "source": [
    "from transformers import AutoTokenizer, AutoModelForCausalLM\n",
    "import torch\n",
    "\n",
    "# Path to the model directory\n",
    "model_dir = '../LLMs/Qwen3-30B-A3B'\n",
    "\n",
    "# Load tokenizer and model\n",
    "tokenizer = AutoTokenizer.from_pretrained(model_dir)\n",
    "model = AutoModelForCausalLM.from_pretrained(model_dir)\n",
    "\n",
    "# Use CPU\n",
    "device = torch.device(\"cpu\")\n",
    "model.to(device)\n"
   ]
  },
  {
   "cell_type": "code",
   "execution_count": 3,
   "id": "250c5cec",
   "metadata": {},
   "outputs": [
    {
     "name": "stdout",
     "output_type": "stream",
     "text": [
      "<think>\n",
      "Okay, the user wants a short introduction to large language models. Let me start by defining what they are. I should mention that they're AI systems trained on vast text data. Maybe include examples like GPT or BERT.\n",
      "\n",
      "Next,\n"
     ]
    }
   ],
   "source": [
    "# Prepare the model input\n",
    "prompt = \"Give me a short introduction to large language model.\"\n",
    "messages = [\n",
    "    {\"role\": \"user\", \"content\": prompt}\n",
    "]\n",
    "text = tokenizer.apply_chat_template(\n",
    "    messages,\n",
    "    tokenize=False,\n",
    "    add_generation_prompt=True,\n",
    "    enable_thinking=True # Switch between thinking and non-thinking modes. Default is True.\n",
    ")\n",
    "model_inputs = tokenizer([text], return_tensors=\"pt\").to(model.device)\n",
    "\n",
    "# Initialize the input ids for the generation\n",
    "input_ids = model_inputs['input_ids']\n",
    "\n",
    "# Generate tokens one by one\n",
    "output_ids = input_ids\n",
    "previous_output = []\n",
    "\n",
    "# Loop to generate and print tokens one by one\n",
    "for _ in range(50):  # Max 50 new tokens\n",
    "    # Generate the next token\n",
    "    output = model.generate(\n",
    "        input_ids=output_ids,\n",
    "        max_new_tokens=1,  # Generate only 1 token at a time\n",
    "        do_sample=True,  # Enable sampling for randomness\n",
    "        pad_token_id=tokenizer.eos_token_id,  # Ensure no padding\n",
    "        return_dict_in_generate=True,  # Get the dict output for token-level information\n",
    "        output_scores=True  # Get the scores for each token, though we don't need them\n",
    "    )\n",
    "    \n",
    "    # Get the new token generated\n",
    "    new_token_id = output.sequences[0, -1].item()\n",
    "    new_token = tokenizer.decode([new_token_id], skip_special_tokens=True)\n",
    "    \n",
    "    # Only print new tokens and avoid repeating lines\n",
    "    if new_token != previous_output[-1:]:\n",
    "        print(new_token, end=\"\", flush=True)\n",
    "    \n",
    "    # Append current token to previous output for comparison\n",
    "    previous_output.append(new_token)\n",
    "    \n",
    "    # Update the input_ids for the next token\n",
    "    output_ids = output.sequences\n",
    "\n",
    "# After loop, print the final part of content\n",
    "print()  # To end the line cleanly\n"
   ]
  }
 ],
 "metadata": {
  "kernelspec": {
   "display_name": "qwen3-cpu",
   "language": "python",
   "name": "python3"
  },
  "language_info": {
   "codemirror_mode": {
    "name": "ipython",
    "version": 3
   },
   "file_extension": ".py",
   "mimetype": "text/x-python",
   "name": "python",
   "nbconvert_exporter": "python",
   "pygments_lexer": "ipython3",
   "version": "3.11.12"
  }
 },
 "nbformat": 4,
 "nbformat_minor": 5
}
